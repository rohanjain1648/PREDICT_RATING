{
 "cells": [
  {
   "cell_type": "code",
   "execution_count": 1,
   "id": "4949cafb",
   "metadata": {
    "_cell_guid": "b1076dfc-b9ad-4769-8c92-a6c4dae69d19",
    "_uuid": "8f2839f25d086af736a60e9eeb907d3b93b6e0e5",
    "execution": {
     "iopub.execute_input": "2025-08-20T18:21:21.729690Z",
     "iopub.status.busy": "2025-08-20T18:21:21.728809Z",
     "iopub.status.idle": "2025-08-20T18:21:23.859969Z",
     "shell.execute_reply": "2025-08-20T18:21:23.858721Z"
    },
    "papermill": {
     "duration": 2.1435,
     "end_time": "2025-08-20T18:21:23.861673",
     "exception": false,
     "start_time": "2025-08-20T18:21:21.718173",
     "status": "completed"
    },
    "tags": []
   },
   "outputs": [
    {
     "name": "stdout",
     "output_type": "stream",
     "text": [
      "/kaggle/input/mlp-term-2-2025-kaggle-assignment-3/sample_submission.csv\n",
      "/kaggle/input/mlp-term-2-2025-kaggle-assignment-3/train.csv\n",
      "/kaggle/input/mlp-term-2-2025-kaggle-assignment-3/test.csv\n"
     ]
    }
   ],
   "source": [
    "# This Python 3 environment comes with many helpful analytics libraries installed\n",
    "# It is defined by the kaggle/python Docker image: https://github.com/kaggle/docker-python\n",
    "# For example, here's several helpful packages to load\n",
    "\n",
    "import numpy as np # linear algebra\n",
    "import pandas as pd # data processing, CSV file I/O (e.g. pd.read_csv)\n",
    "\n",
    "# Input data files are available in the read-only \"../input/\" directory\n",
    "# For example, running this (by clicking run or pressing Shift+Enter) will list all files under the input directory\n",
    "\n",
    "import os\n",
    "for dirname, _, filenames in os.walk('/kaggle/input'):\n",
    "    for filename in filenames:\n",
    "        print(os.path.join(dirname, filename))\n",
    "\n",
    "# You can write up to 20GB to the current directory (/kaggle/working/) that gets preserved as output when you create a version using \"Save & Run All\" \n",
    "# You can also write temporary files to /kaggle/temp/, but they won't be saved outside of the current session"
   ]
  },
  {
   "cell_type": "code",
   "execution_count": 2,
   "id": "951f8b7e",
   "metadata": {
    "execution": {
     "iopub.execute_input": "2025-08-20T18:21:23.879700Z",
     "iopub.status.busy": "2025-08-20T18:21:23.879285Z",
     "iopub.status.idle": "2025-08-20T18:21:26.337137Z",
     "shell.execute_reply": "2025-08-20T18:21:26.335971Z"
    },
    "papermill": {
     "duration": 2.46903,
     "end_time": "2025-08-20T18:21:26.339276",
     "exception": false,
     "start_time": "2025-08-20T18:21:23.870246",
     "status": "completed"
    },
    "tags": []
   },
   "outputs": [],
   "source": [
    "import pandas as pd\n",
    "import numpy as np\n",
    "import matplotlib.pyplot as plt\n",
    "import seaborn as sns\n",
    "from sklearn.preprocessing import OneHotEncoder,StandardScaler\n",
    "from sklearn.model_selection import train_test_split\n",
    "from sklearn.pipeline import Pipeline\n",
    "from sklearn.compose import ColumnTransformer"
   ]
  },
  {
   "cell_type": "code",
   "execution_count": 3,
   "id": "40fe8e2f",
   "metadata": {
    "execution": {
     "iopub.execute_input": "2025-08-20T18:21:26.362389Z",
     "iopub.status.busy": "2025-08-20T18:21:26.361312Z",
     "iopub.status.idle": "2025-08-20T18:21:26.666076Z",
     "shell.execute_reply": "2025-08-20T18:21:26.665133Z"
    },
    "papermill": {
     "duration": 0.319959,
     "end_time": "2025-08-20T18:21:26.667764",
     "exception": false,
     "start_time": "2025-08-20T18:21:26.347805",
     "status": "completed"
    },
    "tags": []
   },
   "outputs": [],
   "source": [
    "df_train=pd.read_csv('/kaggle/input/mlp-term-2-2025-kaggle-assignment-3/train.csv')\n",
    "df_test=pd.read_csv(\"/kaggle/input/mlp-term-2-2025-kaggle-assignment-3/test.csv\")"
   ]
  },
  {
   "cell_type": "code",
   "execution_count": 4,
   "id": "1498a595",
   "metadata": {
    "execution": {
     "iopub.execute_input": "2025-08-20T18:21:26.685882Z",
     "iopub.status.busy": "2025-08-20T18:21:26.685511Z",
     "iopub.status.idle": "2025-08-20T18:21:26.732053Z",
     "shell.execute_reply": "2025-08-20T18:21:26.730858Z"
    },
    "papermill": {
     "duration": 0.057613,
     "end_time": "2025-08-20T18:21:26.733923",
     "exception": false,
     "start_time": "2025-08-20T18:21:26.676310",
     "status": "completed"
    },
    "tags": []
   },
   "outputs": [
    {
     "name": "stdout",
     "output_type": "stream",
     "text": [
      "<class 'pandas.core.frame.DataFrame'>\n",
      "RangeIndex: 26500 entries, 0 to 26499\n",
      "Data columns (total 10 columns):\n",
      " #   Column         Non-Null Count  Dtype  \n",
      "---  ------         --------------  -----  \n",
      " 0   id             26500 non-null  int64  \n",
      " 1   store_name     26500 non-null  object \n",
      " 2   category       26500 non-null  object \n",
      " 3   store_address  26500 non-null  object \n",
      " 4   latitude       25976 non-null  float64\n",
      " 5   longitude      25976 non-null  float64\n",
      " 6   rating_count   26500 non-null  object \n",
      " 7   review_time    26500 non-null  object \n",
      " 8   review         26500 non-null  object \n",
      " 9   rating         26500 non-null  int64  \n",
      "dtypes: float64(2), int64(2), object(6)\n",
      "memory usage: 2.0+ MB\n"
     ]
    }
   ],
   "source": [
    "df_train.info()"
   ]
  },
  {
   "cell_type": "code",
   "execution_count": 5,
   "id": "296e48db",
   "metadata": {
    "execution": {
     "iopub.execute_input": "2025-08-20T18:21:26.754352Z",
     "iopub.status.busy": "2025-08-20T18:21:26.753987Z",
     "iopub.status.idle": "2025-08-20T18:21:26.760910Z",
     "shell.execute_reply": "2025-08-20T18:21:26.760001Z"
    },
    "papermill": {
     "duration": 0.01894,
     "end_time": "2025-08-20T18:21:26.762395",
     "exception": false,
     "start_time": "2025-08-20T18:21:26.743455",
     "status": "completed"
    },
    "tags": []
   },
   "outputs": [
    {
     "data": {
      "text/plain": [
       "(7000, 9)"
      ]
     },
     "execution_count": 5,
     "metadata": {},
     "output_type": "execute_result"
    }
   ],
   "source": [
    "df_test.shape"
   ]
  },
  {
   "cell_type": "code",
   "execution_count": 6,
   "id": "97538714",
   "metadata": {
    "execution": {
     "iopub.execute_input": "2025-08-20T18:21:26.780379Z",
     "iopub.status.busy": "2025-08-20T18:21:26.780025Z",
     "iopub.status.idle": "2025-08-20T18:21:26.786895Z",
     "shell.execute_reply": "2025-08-20T18:21:26.785841Z"
    },
    "papermill": {
     "duration": 0.017808,
     "end_time": "2025-08-20T18:21:26.788532",
     "exception": false,
     "start_time": "2025-08-20T18:21:26.770724",
     "status": "completed"
    },
    "tags": []
   },
   "outputs": [],
   "source": [
    "numerical_cols=df_train.select_dtypes(include=['int64','float64']).columns\n",
    "categorical_cols=df_test.select_dtypes(include=['object','bool']).columns"
   ]
  },
  {
   "cell_type": "code",
   "execution_count": 7,
   "id": "0fffdae2",
   "metadata": {
    "execution": {
     "iopub.execute_input": "2025-08-20T18:21:26.806436Z",
     "iopub.status.busy": "2025-08-20T18:21:26.806130Z",
     "iopub.status.idle": "2025-08-20T18:21:26.811929Z",
     "shell.execute_reply": "2025-08-20T18:21:26.811014Z"
    },
    "papermill": {
     "duration": 0.016379,
     "end_time": "2025-08-20T18:21:26.813447",
     "exception": false,
     "start_time": "2025-08-20T18:21:26.797068",
     "status": "completed"
    },
    "tags": []
   },
   "outputs": [
    {
     "data": {
      "text/plain": [
       "Index(['id', 'latitude ', 'longitude', 'rating'], dtype='object')"
      ]
     },
     "execution_count": 7,
     "metadata": {},
     "output_type": "execute_result"
    }
   ],
   "source": [
    "numerical_cols"
   ]
  },
  {
   "cell_type": "code",
   "execution_count": 8,
   "id": "69779357",
   "metadata": {
    "execution": {
     "iopub.execute_input": "2025-08-20T18:21:26.831727Z",
     "iopub.status.busy": "2025-08-20T18:21:26.831269Z",
     "iopub.status.idle": "2025-08-20T18:21:26.838048Z",
     "shell.execute_reply": "2025-08-20T18:21:26.837100Z"
    },
    "papermill": {
     "duration": 0.017814,
     "end_time": "2025-08-20T18:21:26.839620",
     "exception": false,
     "start_time": "2025-08-20T18:21:26.821806",
     "status": "completed"
    },
    "tags": []
   },
   "outputs": [
    {
     "data": {
      "text/plain": [
       "Index(['store_name', 'category', 'store_address', 'rating_count',\n",
       "       'review_time', 'review'],\n",
       "      dtype='object')"
      ]
     },
     "execution_count": 8,
     "metadata": {},
     "output_type": "execute_result"
    }
   ],
   "source": [
    "categorical_cols"
   ]
  },
  {
   "cell_type": "code",
   "execution_count": 9,
   "id": "abf334a6",
   "metadata": {
    "execution": {
     "iopub.execute_input": "2025-08-20T18:21:26.860213Z",
     "iopub.status.busy": "2025-08-20T18:21:26.859904Z",
     "iopub.status.idle": "2025-08-20T18:21:26.900309Z",
     "shell.execute_reply": "2025-08-20T18:21:26.899317Z"
    },
    "papermill": {
     "duration": 0.052301,
     "end_time": "2025-08-20T18:21:26.901831",
     "exception": false,
     "start_time": "2025-08-20T18:21:26.849530",
     "status": "completed"
    },
    "tags": []
   },
   "outputs": [
    {
     "data": {
      "text/html": [
       "<div>\n",
       "<style scoped>\n",
       "    .dataframe tbody tr th:only-of-type {\n",
       "        vertical-align: middle;\n",
       "    }\n",
       "\n",
       "    .dataframe tbody tr th {\n",
       "        vertical-align: top;\n",
       "    }\n",
       "\n",
       "    .dataframe thead th {\n",
       "        text-align: right;\n",
       "    }\n",
       "</style>\n",
       "<table border=\"1\" class=\"dataframe\">\n",
       "  <thead>\n",
       "    <tr style=\"text-align: right;\">\n",
       "      <th></th>\n",
       "      <th>id</th>\n",
       "      <th>latitude</th>\n",
       "      <th>longitude</th>\n",
       "      <th>rating</th>\n",
       "    </tr>\n",
       "  </thead>\n",
       "  <tbody>\n",
       "    <tr>\n",
       "      <th>count</th>\n",
       "      <td>26500.000000</td>\n",
       "      <td>25976.000000</td>\n",
       "      <td>25976.000000</td>\n",
       "      <td>26500.000000</td>\n",
       "    </tr>\n",
       "    <tr>\n",
       "      <th>mean</th>\n",
       "      <td>13249.500000</td>\n",
       "      <td>34.427152</td>\n",
       "      <td>-90.659226</td>\n",
       "      <td>3.130642</td>\n",
       "    </tr>\n",
       "    <tr>\n",
       "      <th>std</th>\n",
       "      <td>7650.035403</td>\n",
       "      <td>5.336112</td>\n",
       "      <td>16.588603</td>\n",
       "      <td>1.615425</td>\n",
       "    </tr>\n",
       "    <tr>\n",
       "      <th>min</th>\n",
       "      <td>0.000000</td>\n",
       "      <td>25.790295</td>\n",
       "      <td>-121.995421</td>\n",
       "      <td>1.000000</td>\n",
       "    </tr>\n",
       "    <tr>\n",
       "      <th>25%</th>\n",
       "      <td>6624.750000</td>\n",
       "      <td>28.655350</td>\n",
       "      <td>-97.792874</td>\n",
       "      <td>1.000000</td>\n",
       "    </tr>\n",
       "    <tr>\n",
       "      <th>50%</th>\n",
       "      <td>13249.500000</td>\n",
       "      <td>33.931261</td>\n",
       "      <td>-81.471414</td>\n",
       "      <td>3.000000</td>\n",
       "    </tr>\n",
       "    <tr>\n",
       "      <th>75%</th>\n",
       "      <td>19874.250000</td>\n",
       "      <td>40.727401</td>\n",
       "      <td>-75.399919</td>\n",
       "      <td>5.000000</td>\n",
       "    </tr>\n",
       "    <tr>\n",
       "      <th>max</th>\n",
       "      <td>26499.000000</td>\n",
       "      <td>44.981410</td>\n",
       "      <td>-73.459820</td>\n",
       "      <td>5.000000</td>\n",
       "    </tr>\n",
       "  </tbody>\n",
       "</table>\n",
       "</div>"
      ],
      "text/plain": [
       "                 id     latitude      longitude        rating\n",
       "count  26500.000000  25976.000000  25976.000000  26500.000000\n",
       "mean   13249.500000     34.427152    -90.659226      3.130642\n",
       "std     7650.035403      5.336112     16.588603      1.615425\n",
       "min        0.000000     25.790295   -121.995421      1.000000\n",
       "25%     6624.750000     28.655350    -97.792874      1.000000\n",
       "50%    13249.500000     33.931261    -81.471414      3.000000\n",
       "75%    19874.250000     40.727401    -75.399919      5.000000\n",
       "max    26499.000000     44.981410    -73.459820      5.000000"
      ]
     },
     "execution_count": 9,
     "metadata": {},
     "output_type": "execute_result"
    }
   ],
   "source": [
    "df_train.describe()"
   ]
  },
  {
   "cell_type": "code",
   "execution_count": 10,
   "id": "14991e27",
   "metadata": {
    "execution": {
     "iopub.execute_input": "2025-08-20T18:21:26.920985Z",
     "iopub.status.busy": "2025-08-20T18:21:26.920216Z",
     "iopub.status.idle": "2025-08-20T18:21:26.937415Z",
     "shell.execute_reply": "2025-08-20T18:21:26.936362Z"
    },
    "papermill": {
     "duration": 0.029019,
     "end_time": "2025-08-20T18:21:26.939525",
     "exception": false,
     "start_time": "2025-08-20T18:21:26.910506",
     "status": "completed"
    },
    "tags": []
   },
   "outputs": [
    {
     "data": {
      "text/html": [
       "<div>\n",
       "<style scoped>\n",
       "    .dataframe tbody tr th:only-of-type {\n",
       "        vertical-align: middle;\n",
       "    }\n",
       "\n",
       "    .dataframe tbody tr th {\n",
       "        vertical-align: top;\n",
       "    }\n",
       "\n",
       "    .dataframe thead th {\n",
       "        text-align: right;\n",
       "    }\n",
       "</style>\n",
       "<table border=\"1\" class=\"dataframe\">\n",
       "  <thead>\n",
       "    <tr style=\"text-align: right;\">\n",
       "      <th></th>\n",
       "      <th>id</th>\n",
       "      <th>latitude</th>\n",
       "      <th>longitude</th>\n",
       "    </tr>\n",
       "  </thead>\n",
       "  <tbody>\n",
       "    <tr>\n",
       "      <th>count</th>\n",
       "      <td>7000.000000</td>\n",
       "      <td>6864.000000</td>\n",
       "      <td>6864.000000</td>\n",
       "    </tr>\n",
       "    <tr>\n",
       "      <th>mean</th>\n",
       "      <td>3499.500000</td>\n",
       "      <td>34.502408</td>\n",
       "      <td>-90.602969</td>\n",
       "    </tr>\n",
       "    <tr>\n",
       "      <th>std</th>\n",
       "      <td>2020.870275</td>\n",
       "      <td>5.375098</td>\n",
       "      <td>16.627215</td>\n",
       "    </tr>\n",
       "    <tr>\n",
       "      <th>min</th>\n",
       "      <td>0.000000</td>\n",
       "      <td>25.790295</td>\n",
       "      <td>-121.995421</td>\n",
       "    </tr>\n",
       "    <tr>\n",
       "      <th>25%</th>\n",
       "      <td>1749.750000</td>\n",
       "      <td>28.655350</td>\n",
       "      <td>-98.634580</td>\n",
       "    </tr>\n",
       "    <tr>\n",
       "      <th>50%</th>\n",
       "      <td>3499.500000</td>\n",
       "      <td>34.012219</td>\n",
       "      <td>-81.471414</td>\n",
       "    </tr>\n",
       "    <tr>\n",
       "      <th>75%</th>\n",
       "      <td>5249.250000</td>\n",
       "      <td>40.729126</td>\n",
       "      <td>-75.399919</td>\n",
       "    </tr>\n",
       "    <tr>\n",
       "      <th>max</th>\n",
       "      <td>6999.000000</td>\n",
       "      <td>44.981410</td>\n",
       "      <td>-73.459820</td>\n",
       "    </tr>\n",
       "  </tbody>\n",
       "</table>\n",
       "</div>"
      ],
      "text/plain": [
       "                id     latitude    longitude\n",
       "count  7000.000000  6864.000000  6864.000000\n",
       "mean   3499.500000    34.502408   -90.602969\n",
       "std    2020.870275     5.375098    16.627215\n",
       "min       0.000000    25.790295  -121.995421\n",
       "25%    1749.750000    28.655350   -98.634580\n",
       "50%    3499.500000    34.012219   -81.471414\n",
       "75%    5249.250000    40.729126   -75.399919\n",
       "max    6999.000000    44.981410   -73.459820"
      ]
     },
     "execution_count": 10,
     "metadata": {},
     "output_type": "execute_result"
    }
   ],
   "source": [
    "df_test.describe()"
   ]
  },
  {
   "cell_type": "code",
   "execution_count": 11,
   "id": "daa442c3",
   "metadata": {
    "execution": {
     "iopub.execute_input": "2025-08-20T18:21:26.958708Z",
     "iopub.status.busy": "2025-08-20T18:21:26.958416Z",
     "iopub.status.idle": "2025-08-20T18:21:26.979668Z",
     "shell.execute_reply": "2025-08-20T18:21:26.978763Z"
    },
    "papermill": {
     "duration": 0.032839,
     "end_time": "2025-08-20T18:21:26.981339",
     "exception": false,
     "start_time": "2025-08-20T18:21:26.948500",
     "status": "completed"
    },
    "tags": []
   },
   "outputs": [
    {
     "name": "stdout",
     "output_type": "stream",
     "text": [
      "MISSING VALUE SUMMARY :\n"
     ]
    },
    {
     "data": {
      "text/html": [
       "<div>\n",
       "<style scoped>\n",
       "    .dataframe tbody tr th:only-of-type {\n",
       "        vertical-align: middle;\n",
       "    }\n",
       "\n",
       "    .dataframe tbody tr th {\n",
       "        vertical-align: top;\n",
       "    }\n",
       "\n",
       "    .dataframe thead th {\n",
       "        text-align: right;\n",
       "    }\n",
       "</style>\n",
       "<table border=\"1\" class=\"dataframe\">\n",
       "  <thead>\n",
       "    <tr style=\"text-align: right;\">\n",
       "      <th></th>\n",
       "      <th>MISSING COUNT</th>\n",
       "      <th>MISSING PERCENTAGE</th>\n",
       "    </tr>\n",
       "  </thead>\n",
       "  <tbody>\n",
       "    <tr>\n",
       "      <th>latitude</th>\n",
       "      <td>524</td>\n",
       "      <td>1.98</td>\n",
       "    </tr>\n",
       "    <tr>\n",
       "      <th>longitude</th>\n",
       "      <td>524</td>\n",
       "      <td>1.98</td>\n",
       "    </tr>\n",
       "  </tbody>\n",
       "</table>\n",
       "</div>"
      ],
      "text/plain": [
       "           MISSING COUNT  MISSING PERCENTAGE\n",
       "latitude             524                1.98\n",
       "longitude            524                1.98"
      ]
     },
     "metadata": {},
     "output_type": "display_data"
    }
   ],
   "source": [
    "missing_summary=df_train.isna().sum().sort_values(ascending=False)\n",
    "missing_summary=missing_summary[missing_summary>0]\n",
    "missing_df=pd.DataFrame({\n",
    "    'MISSING COUNT': missing_summary,\n",
    "    'MISSING PERCENTAGE': (missing_summary/len(df_train)*100).round(2)\n",
    "})\n",
    "print('MISSING VALUE SUMMARY :')\n",
    "display(missing_df)"
   ]
  },
  {
   "cell_type": "code",
   "execution_count": 12,
   "id": "b943cf67",
   "metadata": {
    "execution": {
     "iopub.execute_input": "2025-08-20T18:21:27.000709Z",
     "iopub.status.busy": "2025-08-20T18:21:27.000323Z",
     "iopub.status.idle": "2025-08-20T18:21:27.015734Z",
     "shell.execute_reply": "2025-08-20T18:21:27.014842Z"
    },
    "papermill": {
     "duration": 0.026778,
     "end_time": "2025-08-20T18:21:27.017267",
     "exception": false,
     "start_time": "2025-08-20T18:21:26.990489",
     "status": "completed"
    },
    "tags": []
   },
   "outputs": [
    {
     "name": "stdout",
     "output_type": "stream",
     "text": [
      "MISSING VALUE SUMMARY :\n"
     ]
    },
    {
     "data": {
      "text/html": [
       "<div>\n",
       "<style scoped>\n",
       "    .dataframe tbody tr th:only-of-type {\n",
       "        vertical-align: middle;\n",
       "    }\n",
       "\n",
       "    .dataframe tbody tr th {\n",
       "        vertical-align: top;\n",
       "    }\n",
       "\n",
       "    .dataframe thead th {\n",
       "        text-align: right;\n",
       "    }\n",
       "</style>\n",
       "<table border=\"1\" class=\"dataframe\">\n",
       "  <thead>\n",
       "    <tr style=\"text-align: right;\">\n",
       "      <th></th>\n",
       "      <th>MISSING COUNT</th>\n",
       "      <th>MISSING PERCENTAGE</th>\n",
       "    </tr>\n",
       "  </thead>\n",
       "  <tbody>\n",
       "    <tr>\n",
       "      <th>latitude</th>\n",
       "      <td>136</td>\n",
       "      <td>1.94</td>\n",
       "    </tr>\n",
       "    <tr>\n",
       "      <th>longitude</th>\n",
       "      <td>136</td>\n",
       "      <td>1.94</td>\n",
       "    </tr>\n",
       "  </tbody>\n",
       "</table>\n",
       "</div>"
      ],
      "text/plain": [
       "           MISSING COUNT  MISSING PERCENTAGE\n",
       "latitude             136                1.94\n",
       "longitude            136                1.94"
      ]
     },
     "metadata": {},
     "output_type": "display_data"
    }
   ],
   "source": [
    "missing_summary=df_test.isna().sum().sort_values(ascending=False)\n",
    "missing_summary=missing_summary[missing_summary>0]\n",
    "missing_df=pd.DataFrame({\n",
    "    'MISSING COUNT': missing_summary,\n",
    "    'MISSING PERCENTAGE': (missing_summary/len(df_test)*100).round(2)\n",
    "})\n",
    "print('MISSING VALUE SUMMARY :')\n",
    "display(missing_df)"
   ]
  },
  {
   "cell_type": "code",
   "execution_count": 13,
   "id": "86c61820",
   "metadata": {
    "execution": {
     "iopub.execute_input": "2025-08-20T18:21:27.037480Z",
     "iopub.status.busy": "2025-08-20T18:21:27.037135Z",
     "iopub.status.idle": "2025-08-20T18:21:27.050608Z",
     "shell.execute_reply": "2025-08-20T18:21:27.049201Z"
    },
    "papermill": {
     "duration": 0.025718,
     "end_time": "2025-08-20T18:21:27.052708",
     "exception": false,
     "start_time": "2025-08-20T18:21:27.026990",
     "status": "completed"
    },
    "tags": []
   },
   "outputs": [],
   "source": [
    "df_train.columns = df_train.columns.str.strip()\n",
    "df_test.columns = df_test.columns.str.strip()\n",
    "num_col=df_train.select_dtypes(include=['int64','float64']).columns\n",
    "for col in num_col:\n",
    "    if col in df_train.columns:\n",
    "        median_val=df_train[col].median()\n",
    "        df_train[col]=df_train[col].fillna(median_val)\n",
    "        if col in df_test.columns:\n",
    "            df_test[col]=df_test[col].fillna(median_val)"
   ]
  },
  {
   "cell_type": "code",
   "execution_count": 14,
   "id": "9d4f0cd1",
   "metadata": {
    "execution": {
     "iopub.execute_input": "2025-08-20T18:21:27.073000Z",
     "iopub.status.busy": "2025-08-20T18:21:27.072639Z",
     "iopub.status.idle": "2025-08-20T18:21:27.090760Z",
     "shell.execute_reply": "2025-08-20T18:21:27.089581Z"
    },
    "papermill": {
     "duration": 0.03033,
     "end_time": "2025-08-20T18:21:27.092487",
     "exception": false,
     "start_time": "2025-08-20T18:21:27.062157",
     "status": "completed"
    },
    "tags": []
   },
   "outputs": [],
   "source": [
    "df_train['rating_count'] = (\n",
    "    df_train['rating_count']\n",
    "    .astype(str)           # convert to string first\n",
    "    .str.replace(',', '')  # remove commas\n",
    "    .astype(int)           # convert back to integer\n",
    ")\n"
   ]
  },
  {
   "cell_type": "code",
   "execution_count": 15,
   "id": "a988c2f8",
   "metadata": {
    "execution": {
     "iopub.execute_input": "2025-08-20T18:21:27.113175Z",
     "iopub.status.busy": "2025-08-20T18:21:27.112858Z",
     "iopub.status.idle": "2025-08-20T18:21:27.122054Z",
     "shell.execute_reply": "2025-08-20T18:21:27.121016Z"
    },
    "papermill": {
     "duration": 0.021881,
     "end_time": "2025-08-20T18:21:27.124080",
     "exception": false,
     "start_time": "2025-08-20T18:21:27.102199",
     "status": "completed"
    },
    "tags": []
   },
   "outputs": [],
   "source": [
    "df_test['rating_count'] = (\n",
    "    df_test['rating_count']\n",
    "    .astype(str)           # convert to string first\n",
    "    .str.replace(',', '')  # remove commas\n",
    "    .astype(int)           # convert back to integer\n",
    ")"
   ]
  },
  {
   "cell_type": "code",
   "execution_count": 16,
   "id": "0b8f660e",
   "metadata": {
    "execution": {
     "iopub.execute_input": "2025-08-20T18:21:27.213343Z",
     "iopub.status.busy": "2025-08-20T18:21:27.213043Z",
     "iopub.status.idle": "2025-08-20T18:21:27.227536Z",
     "shell.execute_reply": "2025-08-20T18:21:27.226535Z"
    },
    "papermill": {
     "duration": 0.026628,
     "end_time": "2025-08-20T18:21:27.229378",
     "exception": false,
     "start_time": "2025-08-20T18:21:27.202750",
     "status": "completed"
    },
    "tags": []
   },
   "outputs": [
    {
     "name": "stdout",
     "output_type": "stream",
     "text": [
      "MISSING VALUE SUMMARY :\n"
     ]
    },
    {
     "data": {
      "text/html": [
       "<div>\n",
       "<style scoped>\n",
       "    .dataframe tbody tr th:only-of-type {\n",
       "        vertical-align: middle;\n",
       "    }\n",
       "\n",
       "    .dataframe tbody tr th {\n",
       "        vertical-align: top;\n",
       "    }\n",
       "\n",
       "    .dataframe thead th {\n",
       "        text-align: right;\n",
       "    }\n",
       "</style>\n",
       "<table border=\"1\" class=\"dataframe\">\n",
       "  <thead>\n",
       "    <tr style=\"text-align: right;\">\n",
       "      <th></th>\n",
       "      <th>MISSING COUNT</th>\n",
       "      <th>MISSING PERCENTAGE</th>\n",
       "    </tr>\n",
       "  </thead>\n",
       "  <tbody>\n",
       "  </tbody>\n",
       "</table>\n",
       "</div>"
      ],
      "text/plain": [
       "Empty DataFrame\n",
       "Columns: [MISSING COUNT, MISSING PERCENTAGE]\n",
       "Index: []"
      ]
     },
     "metadata": {},
     "output_type": "display_data"
    }
   ],
   "source": [
    "missing_summary=df_test.isna().sum().sort_values(ascending=False)\n",
    "missing_summary=missing_summary[missing_summary>0]\n",
    "missing_df=pd.DataFrame({\n",
    "    'MISSING COUNT': missing_summary,\n",
    "    'MISSING PERCENTAGE': (missing_summary/len(df_test)*100).round(2)\n",
    "})\n",
    "print('MISSING VALUE SUMMARY :')\n",
    "display(missing_df)"
   ]
  },
  {
   "cell_type": "code",
   "execution_count": 17,
   "id": "22d515b3",
   "metadata": {
    "execution": {
     "iopub.execute_input": "2025-08-20T18:21:27.252844Z",
     "iopub.status.busy": "2025-08-20T18:21:27.252409Z",
     "iopub.status.idle": "2025-08-20T18:21:27.258694Z",
     "shell.execute_reply": "2025-08-20T18:21:27.257591Z"
    },
    "papermill": {
     "duration": 0.019899,
     "end_time": "2025-08-20T18:21:27.260347",
     "exception": false,
     "start_time": "2025-08-20T18:21:27.240448",
     "status": "completed"
    },
    "tags": []
   },
   "outputs": [
    {
     "name": "stdout",
     "output_type": "stream",
     "text": [
      "Very nice staff, good place to get all your fast food needs!  Tha k you!  ï¿½ï¿½ï¿\n"
     ]
    }
   ],
   "source": [
    "print(df_train['review'].iloc[0])"
   ]
  },
  {
   "cell_type": "code",
   "execution_count": 18,
   "id": "0ed2e82f",
   "metadata": {
    "execution": {
     "iopub.execute_input": "2025-08-20T18:21:27.282607Z",
     "iopub.status.busy": "2025-08-20T18:21:27.282255Z",
     "iopub.status.idle": "2025-08-20T18:21:27.559065Z",
     "shell.execute_reply": "2025-08-20T18:21:27.557839Z"
    },
    "papermill": {
     "duration": 0.289829,
     "end_time": "2025-08-20T18:21:27.560814",
     "exception": false,
     "start_time": "2025-08-20T18:21:27.270985",
     "status": "completed"
    },
    "tags": []
   },
   "outputs": [
    {
     "name": "stdout",
     "output_type": "stream",
     "text": [
      "                                              review  \\\n",
      "0  Very nice staff, good place to get all your fa...   \n",
      "1  I think the morning shift are one of, if not t...   \n",
      "2  Horrible! Avoid this place at night.  Unsafe. ...   \n",
      "3  Employees too busy window licking to get any o...   \n",
      "4  I'm sorry to give only one star. But during ou...   \n",
      "\n",
      "                                      cleaned_review  \n",
      "0  Very nice staff, good place to get all your fa...  \n",
      "1  I think the morning shift are one of, if not t...  \n",
      "2  Horrible! Avoid this place at night. Unsafe. P...  \n",
      "3  Employees too busy window licking to get any o...  \n",
      "4  I'm sorry to give only one star. But during ou...  \n"
     ]
    }
   ],
   "source": [
    "import re\n",
    "def clean_text(text):\n",
    "    text=text.encode('ascii','ignore').decode()\n",
    "    text=re.sub(r'\\s+',' ',text)\n",
    "    return text.strip()\n",
    "df_train['cleaned_review']=df_train['review'].apply(clean_text)\n",
    "print(df_train[['review','cleaned_review']].head())"
   ]
  },
  {
   "cell_type": "code",
   "execution_count": 19,
   "id": "8107d139",
   "metadata": {
    "execution": {
     "iopub.execute_input": "2025-08-20T18:21:27.581259Z",
     "iopub.status.busy": "2025-08-20T18:21:27.580566Z",
     "iopub.status.idle": "2025-08-20T18:21:27.652849Z",
     "shell.execute_reply": "2025-08-20T18:21:27.651900Z"
    },
    "papermill": {
     "duration": 0.084345,
     "end_time": "2025-08-20T18:21:27.654714",
     "exception": false,
     "start_time": "2025-08-20T18:21:27.570369",
     "status": "completed"
    },
    "tags": []
   },
   "outputs": [],
   "source": [
    "df_test[\"cleaned_review\"] = df_test[\"review\"].apply(clean_text)"
   ]
  },
  {
   "cell_type": "code",
   "execution_count": 20,
   "id": "cee2640a",
   "metadata": {
    "execution": {
     "iopub.execute_input": "2025-08-20T18:21:27.676323Z",
     "iopub.status.busy": "2025-08-20T18:21:27.676011Z",
     "iopub.status.idle": "2025-08-20T18:21:27.728551Z",
     "shell.execute_reply": "2025-08-20T18:21:27.727484Z"
    },
    "papermill": {
     "duration": 0.06491,
     "end_time": "2025-08-20T18:21:27.730426",
     "exception": false,
     "start_time": "2025-08-20T18:21:27.665516",
     "status": "completed"
    },
    "tags": []
   },
   "outputs": [
    {
     "name": "stdout",
     "output_type": "stream",
     "text": [
      " NUMBER OF DUPLICATES ROWS:0\n"
     ]
    },
    {
     "data": {
      "text/html": [
       "<div>\n",
       "<style scoped>\n",
       "    .dataframe tbody tr th:only-of-type {\n",
       "        vertical-align: middle;\n",
       "    }\n",
       "\n",
       "    .dataframe tbody tr th {\n",
       "        vertical-align: top;\n",
       "    }\n",
       "\n",
       "    .dataframe thead th {\n",
       "        text-align: right;\n",
       "    }\n",
       "</style>\n",
       "<table border=\"1\" class=\"dataframe\">\n",
       "  <thead>\n",
       "    <tr style=\"text-align: right;\">\n",
       "      <th></th>\n",
       "      <th>id</th>\n",
       "      <th>store_name</th>\n",
       "      <th>category</th>\n",
       "      <th>store_address</th>\n",
       "      <th>latitude</th>\n",
       "      <th>longitude</th>\n",
       "      <th>rating_count</th>\n",
       "      <th>review_time</th>\n",
       "      <th>review</th>\n",
       "      <th>rating</th>\n",
       "      <th>cleaned_review</th>\n",
       "    </tr>\n",
       "  </thead>\n",
       "  <tbody>\n",
       "  </tbody>\n",
       "</table>\n",
       "</div>"
      ],
      "text/plain": [
       "Empty DataFrame\n",
       "Columns: [id, store_name, category, store_address, latitude, longitude, rating_count, review_time, review, rating, cleaned_review]\n",
       "Index: []"
      ]
     },
     "metadata": {},
     "output_type": "display_data"
    }
   ],
   "source": [
    "duplicate_rows=df_train[df_train.duplicated()]\n",
    "print(f\" NUMBER OF DUPLICATES ROWS:{duplicate_rows.shape[0]}\")\n",
    "display(duplicate_rows)"
   ]
  },
  {
   "cell_type": "code",
   "execution_count": 21,
   "id": "d7071b46",
   "metadata": {
    "execution": {
     "iopub.execute_input": "2025-08-20T18:21:27.754395Z",
     "iopub.status.busy": "2025-08-20T18:21:27.754073Z",
     "iopub.status.idle": "2025-08-20T18:21:30.645288Z",
     "shell.execute_reply": "2025-08-20T18:21:30.644469Z"
    },
    "papermill": {
     "duration": 2.905548,
     "end_time": "2025-08-20T18:21:30.647453",
     "exception": false,
     "start_time": "2025-08-20T18:21:27.741905",
     "status": "completed"
    },
    "tags": []
   },
   "outputs": [],
   "source": [
    "duplicate_columns= df_train.loc[:,df_train.T.duplicated()]"
   ]
  },
  {
   "cell_type": "code",
   "execution_count": 22,
   "id": "94804756",
   "metadata": {
    "execution": {
     "iopub.execute_input": "2025-08-20T18:21:30.671861Z",
     "iopub.status.busy": "2025-08-20T18:21:30.671488Z",
     "iopub.status.idle": "2025-08-20T18:21:30.699227Z",
     "shell.execute_reply": "2025-08-20T18:21:30.698378Z"
    },
    "papermill": {
     "duration": 0.041556,
     "end_time": "2025-08-20T18:21:30.701025",
     "exception": false,
     "start_time": "2025-08-20T18:21:30.659469",
     "status": "completed"
    },
    "tags": []
   },
   "outputs": [
    {
     "data": {
      "text/html": [
       "<div>\n",
       "<style scoped>\n",
       "    .dataframe tbody tr th:only-of-type {\n",
       "        vertical-align: middle;\n",
       "    }\n",
       "\n",
       "    .dataframe tbody tr th {\n",
       "        vertical-align: top;\n",
       "    }\n",
       "\n",
       "    .dataframe thead th {\n",
       "        text-align: right;\n",
       "    }\n",
       "</style>\n",
       "<table border=\"1\" class=\"dataframe\">\n",
       "  <thead>\n",
       "    <tr style=\"text-align: right;\">\n",
       "      <th></th>\n",
       "      <th>Outlier Count</th>\n",
       "    </tr>\n",
       "  </thead>\n",
       "  <tbody>\n",
       "    <tr>\n",
       "      <th>rating_count</th>\n",
       "      <td>3761</td>\n",
       "    </tr>\n",
       "    <tr>\n",
       "      <th>id</th>\n",
       "      <td>0</td>\n",
       "    </tr>\n",
       "    <tr>\n",
       "      <th>latitude</th>\n",
       "      <td>0</td>\n",
       "    </tr>\n",
       "    <tr>\n",
       "      <th>longitude</th>\n",
       "      <td>0</td>\n",
       "    </tr>\n",
       "    <tr>\n",
       "      <th>rating</th>\n",
       "      <td>0</td>\n",
       "    </tr>\n",
       "  </tbody>\n",
       "</table>\n",
       "</div>"
      ],
      "text/plain": [
       "              Outlier Count\n",
       "rating_count           3761\n",
       "id                        0\n",
       "latitude                  0\n",
       "longitude                 0\n",
       "rating                    0"
      ]
     },
     "execution_count": 22,
     "metadata": {},
     "output_type": "execute_result"
    }
   ],
   "source": [
    "numerical_cols=df_train.select_dtypes(include=['int64','float64']).columns\n",
    "outlier_summary={}\n",
    "for col in numerical_cols:\n",
    "    Q1=df_train[col].quantile(0.25)\n",
    "    Q3=df_train[col].quantile(0.75)\n",
    "    IQR = Q3-Q1\n",
    "    lower_limit=Q1-1.5*IQR\n",
    "    upper_limit =Q3+1.5*IQR\n",
    "    outliers = df_train[(df_train[col]< lower_limit)|(df_train[col] > upper_limit)]\n",
    "    outlier_summary[col]=len(outliers)\n",
    "outlier_df=pd.DataFrame.from_dict(outlier_summary,orient='index',columns=['Outlier Count'])\n",
    "outlier_df.sort_values(by='Outlier Count',ascending=False)"
   ]
  },
  {
   "cell_type": "code",
   "execution_count": 23,
   "id": "64838b34",
   "metadata": {
    "execution": {
     "iopub.execute_input": "2025-08-20T18:21:30.721692Z",
     "iopub.status.busy": "2025-08-20T18:21:30.721373Z",
     "iopub.status.idle": "2025-08-20T18:21:30.748741Z",
     "shell.execute_reply": "2025-08-20T18:21:30.747757Z"
    },
    "papermill": {
     "duration": 0.039595,
     "end_time": "2025-08-20T18:21:30.750423",
     "exception": false,
     "start_time": "2025-08-20T18:21:30.710828",
     "status": "completed"
    },
    "tags": []
   },
   "outputs": [],
   "source": [
    "def cap_outliers(df, column):\n",
    "    Q1 = df[column].quantile(0.25)  \n",
    "    Q3 = df[column].quantile(0.75)\n",
    "    IQR = Q3 - Q1\n",
    "    lower_bound = Q1 - 1.5 * IQR\n",
    "    upper_bound = Q3 + 1.5 * IQR\n",
    "    df[column] = df[column].clip(lower=lower_bound,upper=upper_bound)\n",
    "    return df\n",
    "df_before = df_train.copy()\n",
    "df_after = df_train.copy()\n",
    "cols=['rating_count']\n",
    "for col in cols:\n",
    "    df_after = cap_outliers(df_after, col)"
   ]
  },
  {
   "cell_type": "code",
   "execution_count": 24,
   "id": "b2f0d61e",
   "metadata": {
    "execution": {
     "iopub.execute_input": "2025-08-20T18:21:30.771737Z",
     "iopub.status.busy": "2025-08-20T18:21:30.770859Z",
     "iopub.status.idle": "2025-08-20T18:21:30.777368Z",
     "shell.execute_reply": "2025-08-20T18:21:30.776336Z"
    },
    "papermill": {
     "duration": 0.018768,
     "end_time": "2025-08-20T18:21:30.778922",
     "exception": false,
     "start_time": "2025-08-20T18:21:30.760154",
     "status": "completed"
    },
    "tags": []
   },
   "outputs": [
    {
     "name": "stdout",
     "output_type": "stream",
     "text": [
      "\n",
      "Column : rating_count\n",
      "Before - Min : 263,Max : 19682\n",
      " After Min : 263,Max : 4916\n"
     ]
    }
   ],
   "source": [
    "for col in cols:\n",
    "    print(f\"\\nColumn : {col}\")\n",
    "    print(f\"Before - Min : {df_before[col].min()},Max : {df_before[col].max()}\")\n",
    "    print(f\" After Min : {df_after[col].min()},Max : {df_after[col].max()}\")"
   ]
  },
  {
   "cell_type": "code",
   "execution_count": 25,
   "id": "b39cf148",
   "metadata": {
    "execution": {
     "iopub.execute_input": "2025-08-20T18:21:30.799863Z",
     "iopub.status.busy": "2025-08-20T18:21:30.799488Z",
     "iopub.status.idle": "2025-08-20T18:21:31.228844Z",
     "shell.execute_reply": "2025-08-20T18:21:31.227761Z"
    },
    "papermill": {
     "duration": 0.441951,
     "end_time": "2025-08-20T18:21:31.230639",
     "exception": false,
     "start_time": "2025-08-20T18:21:30.788688",
     "status": "completed"
    },
    "tags": []
   },
   "outputs": [
    {
     "data": {
      "image/png": "[encoded data removed]",
      "text/plain": [
       "<Figure size 1000x400 with 2 Axes>"
      ]
     },
     "metadata": {},
     "output_type": "display_data"
    }
   ],
   "source": [
    "for col in cols:\n",
    "    plt.figure(figsize=(10,4))\n",
    "    plt.subplot(1,2,1)\n",
    "    sns.boxplot(y=df_before[col])\n",
    "    plt.title(f\"Before Capping - {col}\")\n",
    "    plt.subplot(1,2,2)\n",
    "    sns.boxplot(y=df_after[col])\n",
    "    plt.title(f\"After Capping - {col}\")\n",
    "    plt.tight_layout()\n",
    "    plt.show()"
   ]
  },
  {
   "cell_type": "code",
   "execution_count": 26,
   "id": "3ed1f6d4",
   "metadata": {
    "execution": {
     "iopub.execute_input": "2025-08-20T18:21:31.254568Z",
     "iopub.status.busy": "2025-08-20T18:21:31.254214Z",
     "iopub.status.idle": "2025-08-20T18:21:31.727704Z",
     "shell.execute_reply": "2025-08-20T18:21:31.726563Z"
    },
    "papermill": {
     "duration": 0.487387,
     "end_time": "2025-08-20T18:21:31.729371",
     "exception": false,
     "start_time": "2025-08-20T18:21:31.241984",
     "status": "completed"
    },
    "tags": []
   },
   "outputs": [
    {
     "data": {
      "image/png": "[encoded data removed]",
      "text/plain": [
       "<Figure size 800x600 with 1 Axes>"
      ]
     },
     "metadata": {},
     "output_type": "display_data"
    }
   ],
   "source": [
    "#  Scatter plot: Rating count vs Rating\n",
    "plt.figure(figsize=(8,6))\n",
    "sns.scatterplot(x='rating_count', y='rating', data=df_train, alpha=0.5)\n",
    "plt.title(\"Rating Count vs Rating\")\n",
    "plt.xlabel(\"Rating Count\")\n",
    "plt.ylabel(\"Rating\")\n",
    "plt.xscale(\"log\")  # log scale to handle wide range\n",
    "plt.show()"
   ]
  },
  {
   "cell_type": "code",
   "execution_count": 27,
   "id": "bb2000d6",
   "metadata": {
    "execution": {
     "iopub.execute_input": "2025-08-20T18:21:31.755064Z",
     "iopub.status.busy": "2025-08-20T18:21:31.754687Z",
     "iopub.status.idle": "2025-08-20T18:21:31.994281Z",
     "shell.execute_reply": "2025-08-20T18:21:31.993280Z"
    },
    "papermill": {
     "duration": 0.254891,
     "end_time": "2025-08-20T18:21:31.996006",
     "exception": false,
     "start_time": "2025-08-20T18:21:31.741115",
     "status": "completed"
    },
    "tags": []
   },
   "outputs": [
    {
     "name": "stderr",
     "output_type": "stream",
     "text": [
      "/usr/local/lib/python3.11/dist-packages/seaborn/_oldcore.py:1119: FutureWarning: use_inf_as_na option is deprecated and will be removed in a future version. Convert inf values to NaN before operating instead.\n",
      "  with pd.option_context('mode.use_inf_as_na', True):\n",
      "/usr/local/lib/python3.11/dist-packages/seaborn/_oldcore.py:1119: FutureWarning: use_inf_as_na option is deprecated and will be removed in a future version. Convert inf values to NaN before operating instead.\n",
      "  with pd.option_context('mode.use_inf_as_na', True):\n"
     ]
    },
    {
     "data": {
      "image/png": "[encoded data removed]",
      "text/plain": [
       "<Figure size 800x500 with 1 Axes>"
      ]
     },
     "metadata": {},
     "output_type": "display_data"
    }
   ],
   "source": [
    "# Line plot: Average rating trend over review_time (simplified year extraction)\n",
    "df_train['review_year'] = df_train['review_time'].str.extract(r'(\\d+)').astype(float)\n",
    "yearly_trend = df_train.groupby('review_year')['rating'].mean()\n",
    "\n",
    "plt.figure(figsize=(8,5))\n",
    "sns.lineplot(x=yearly_trend.index, y=yearly_trend.values, marker=\"o\")\n",
    "plt.title(\"Average Rating Trend Over Time (Approx.)\")\n",
    "plt.xlabel(\"Years Ago (Extracted)\")\n",
    "plt.ylabel(\"Average Rating\")\n",
    "plt.show()"
   ]
  },
  {
   "cell_type": "code",
   "execution_count": 28,
   "id": "ac329799",
   "metadata": {
    "execution": {
     "iopub.execute_input": "2025-08-20T18:21:32.024264Z",
     "iopub.status.busy": "2025-08-20T18:21:32.023930Z",
     "iopub.status.idle": "2025-08-20T18:21:32.289532Z",
     "shell.execute_reply": "2025-08-20T18:21:32.288539Z"
    },
    "papermill": {
     "duration": 0.281712,
     "end_time": "2025-08-20T18:21:32.291291",
     "exception": false,
     "start_time": "2025-08-20T18:21:32.009579",
     "status": "completed"
    },
    "tags": []
   },
   "outputs": [
    {
     "data": {
      "image/png": "[encoded data removed]",
      "text/plain": [
       "<Figure size 800x500 with 2 Axes>"
      ]
     },
     "metadata": {},
     "output_type": "display_data"
    }
   ],
   "source": [
    "plt.figure(figsize=(8, 5))\n",
    "sns.heatmap(df_train[numerical_cols].corr(), annot=True, cmap='coolwarm', fmt=\".2f\")\n",
    "plt.title(\"Correlation Heatmap\")\n",
    "plt.show()"
   ]
  },
  {
   "cell_type": "code",
   "execution_count": 29,
   "id": "7fa6379f",
   "metadata": {
    "execution": {
     "iopub.execute_input": "2025-08-20T18:21:32.321565Z",
     "iopub.status.busy": "2025-08-20T18:21:32.321268Z",
     "iopub.status.idle": "2025-08-20T18:21:32.491134Z",
     "shell.execute_reply": "2025-08-20T18:21:32.490096Z"
    },
    "papermill": {
     "duration": 0.187062,
     "end_time": "2025-08-20T18:21:32.492919",
     "exception": false,
     "start_time": "2025-08-20T18:21:32.305857",
     "status": "completed"
    },
    "tags": []
   },
   "outputs": [
    {
     "data": {
      "image/png": "[encoded data removed]",
      "text/plain": [
       "<Figure size 800x500 with 1 Axes>"
      ]
     },
     "metadata": {},
     "output_type": "display_data"
    }
   ],
   "source": [
    "plt.figure(figsize=(8, 5))\n",
    "sns.countplot(data=df_train, x='rating')\n",
    "plt.title(\"Distribution of Ratings\")\n",
    "plt.xlabel(\"Rating\")\n",
    "plt.ylabel(\"Count\")\n",
    "plt.show()"
   ]
  },
  {
   "cell_type": "code",
   "execution_count": 30,
   "id": "bda72aaa",
   "metadata": {
    "execution": {
     "iopub.execute_input": "2025-08-20T18:21:32.523252Z",
     "iopub.status.busy": "2025-08-20T18:21:32.522930Z",
     "iopub.status.idle": "2025-08-20T18:21:33.748276Z",
     "shell.execute_reply": "2025-08-20T18:21:33.747221Z"
    },
    "papermill": {
     "duration": 1.242697,
     "end_time": "2025-08-20T18:21:33.750209",
     "exception": false,
     "start_time": "2025-08-20T18:21:32.507512",
     "status": "completed"
    },
    "tags": []
   },
   "outputs": [
    {
     "data": {
      "image/png": "[encoded data removed]",
      "text/plain": [
       "<Figure size 1000x600 with 1 Axes>"
      ]
     },
     "metadata": {},
     "output_type": "display_data"
    }
   ],
   "source": [
    "plt.figure(figsize=(10, 6))\n",
    "sns.scatterplot(data=df_train, x='longitude', y='latitude', hue='rating', palette='viridis', alpha=0.7)\n",
    "plt.title(\"Geographical Distribution of Stores by Rating\")\n",
    "plt.xlabel(\"Longitude\")\n",
    "plt.ylabel(\"Latitude\")\n",
    "plt.legend(title=\"Rating\", bbox_to_anchor=(1.05, 1), loc='upper left')\n",
    "plt.show()"
   ]
  },
  {
   "cell_type": "code",
   "execution_count": 31,
   "id": "86d454e0",
   "metadata": {
    "execution": {
     "iopub.execute_input": "2025-08-20T18:21:33.781999Z",
     "iopub.status.busy": "2025-08-20T18:21:33.781629Z",
     "iopub.status.idle": "2025-08-20T18:21:33.805129Z",
     "shell.execute_reply": "2025-08-20T18:21:33.804103Z"
    },
    "papermill": {
     "duration": 0.041686,
     "end_time": "2025-08-20T18:21:33.807199",
     "exception": false,
     "start_time": "2025-08-20T18:21:33.765513",
     "status": "completed"
    },
    "tags": []
   },
   "outputs": [],
   "source": [
    "from sklearn.feature_extraction.text import TfidfVectorizer\n",
    "from sklearn.compose import ColumnTransformer\n",
    "from sklearn.pipeline import Pipeline\n",
    "from sklearn.preprocessing import StandardScaler, OneHotEncoder\n",
    "from sklearn.feature_extraction.text import TfidfVectorizer\n",
    "\n",
    "X = df_train[['cleaned_review', 'rating_count', 'latitude', 'longitude', 'store_name', 'category']]\n",
    "y = df_train['rating']"
   ]
  },
  {
   "cell_type": "code",
   "execution_count": 32,
   "id": "989d9a6b",
   "metadata": {
    "execution": {
     "iopub.execute_input": "2025-08-20T18:21:33.840380Z",
     "iopub.status.busy": "2025-08-20T18:21:33.840042Z",
     "iopub.status.idle": "2025-08-20T18:21:33.861112Z",
     "shell.execute_reply": "2025-08-20T18:21:33.860066Z"
    },
    "papermill": {
     "duration": 0.039818,
     "end_time": "2025-08-20T18:21:33.863310",
     "exception": false,
     "start_time": "2025-08-20T18:21:33.823492",
     "status": "completed"
    },
    "tags": []
   },
   "outputs": [],
   "source": [
    "from sklearn.model_selection import train_test_split\n",
    "\n",
    "X_train, X_test, y_train, y_test = train_test_split(X, y, stratify=y, test_size=0.2, random_state=42)"
   ]
  },
  {
   "cell_type": "code",
   "execution_count": 33,
   "id": "437e6db8",
   "metadata": {
    "execution": {
     "iopub.execute_input": "2025-08-20T18:21:33.896019Z",
     "iopub.status.busy": "2025-08-20T18:21:33.895368Z",
     "iopub.status.idle": "2025-08-20T18:21:33.900151Z",
     "shell.execute_reply": "2025-08-20T18:21:33.899360Z"
    },
    "papermill": {
     "duration": 0.022422,
     "end_time": "2025-08-20T18:21:33.901644",
     "exception": false,
     "start_time": "2025-08-20T18:21:33.879222",
     "status": "completed"
    },
    "tags": []
   },
   "outputs": [],
   "source": [
    "preprocessor = ColumnTransformer(\n",
    "    transformers=[\n",
    "        ('text', TfidfVectorizer(max_features=5000, stop_words='english'), 'cleaned_review'),\n",
    "        ('num', StandardScaler(), [ 'latitude', 'longitude']),\n",
    "        ('cat', OneHotEncoder(handle_unknown='ignore'), ['store_name', 'category'])\n",
    "    ]\n",
    ")"
   ]
  },
  {
   "cell_type": "code",
   "execution_count": 34,
   "id": "e051c927",
   "metadata": {
    "execution": {
     "iopub.execute_input": "2025-08-20T18:21:33.933504Z",
     "iopub.status.busy": "2025-08-20T18:21:33.933175Z",
     "iopub.status.idle": "2025-08-20T18:21:34.492054Z",
     "shell.execute_reply": "2025-08-20T18:21:34.490868Z"
    },
    "papermill": {
     "duration": 0.576854,
     "end_time": "2025-08-20T18:21:34.493852",
     "exception": false,
     "start_time": "2025-08-20T18:21:33.916998",
     "status": "completed"
    },
    "tags": []
   },
   "outputs": [],
   "source": [
    "X_train_processed = preprocessor.fit_transform(X_train)\n",
    "X_test_processed = preprocessor.transform(X_test)"
   ]
  },
  {
   "cell_type": "code",
   "execution_count": 35,
   "id": "3d982736",
   "metadata": {
    "execution": {
     "iopub.execute_input": "2025-08-20T18:21:34.527908Z",
     "iopub.status.busy": "2025-08-20T18:21:34.527493Z",
     "iopub.status.idle": "2025-08-20T18:21:42.532261Z",
     "shell.execute_reply": "2025-08-20T18:21:42.530040Z"
    },
    "papermill": {
     "duration": 8.023766,
     "end_time": "2025-08-20T18:21:42.534176",
     "exception": false,
     "start_time": "2025-08-20T18:21:34.510410",
     "status": "completed"
    },
    "tags": []
   },
   "outputs": [
    {
     "name": "stdout",
     "output_type": "stream",
     "text": [
      "Accuracy: 0.610188679245283\n",
      "              precision    recall  f1-score   support\n",
      "\n",
      "           1       0.77      0.73      0.75      1498\n",
      "           2       0.33      0.51      0.40       490\n",
      "           3       0.50      0.49      0.49       764\n",
      "           4       0.46      0.51      0.48       918\n",
      "           5       0.77      0.64      0.70      1630\n",
      "\n",
      "    accuracy                           0.61      5300\n",
      "   macro avg       0.57      0.58      0.57      5300\n",
      "weighted avg       0.64      0.61      0.62      5300\n",
      "\n",
      "\n",
      "Confusion Matrix:\n",
      " [[1101  261   82   33   21]\n",
      " [ 140  248   64   23   15]\n",
      " [  92  127  374  111   60]\n",
      " [  47   70  124  464  213]\n",
      " [  55   50  110  368 1047]]\n"
     ]
    }
   ],
   "source": [
    "from sklearn.linear_model import LogisticRegression\n",
    "from sklearn.metrics import classification_report, confusion_matrix,accuracy_score\n",
    "\n",
    "model = LogisticRegression(class_weight='balanced',max_iter=1000)\n",
    "model.fit(X_train_processed, y_train)\n",
    "\n",
    "y_pred = model.predict(X_test_processed)\n",
    "print(\"Accuracy:\", accuracy_score(y_test, y_pred))\n",
    "print(classification_report(y_test, y_pred))\n",
    "print(\"\\nConfusion Matrix:\\n\", confusion_matrix(y_test, y_pred))"
   ]
  },
  {
   "cell_type": "code",
   "execution_count": 36,
   "id": "d5732066",
   "metadata": {
    "execution": {
     "iopub.execute_input": "2025-08-20T18:21:42.585973Z",
     "iopub.status.busy": "2025-08-20T18:21:42.585615Z",
     "iopub.status.idle": "2025-08-20T18:22:22.960842Z",
     "shell.execute_reply": "2025-08-20T18:22:22.959874Z"
    },
    "papermill": {
     "duration": 40.418001,
     "end_time": "2025-08-20T18:22:22.977428",
     "exception": false,
     "start_time": "2025-08-20T18:21:42.559427",
     "status": "completed"
    },
    "tags": []
   },
   "outputs": [
    {
     "name": "stdout",
     "output_type": "stream",
     "text": [
      "Accuracy: 0.6833962264150943\n",
      "\n",
      "Classification Report:\n",
      "               precision    recall  f1-score   support\n",
      "\n",
      "           1       0.67      0.92      0.77      1498\n",
      "           2       0.84      0.29      0.43       490\n",
      "           3       0.75      0.43      0.55       764\n",
      "           4       0.67      0.42      0.51       918\n",
      "           5       0.67      0.86      0.75      1630\n",
      "\n",
      "    accuracy                           0.68      5300\n",
      "   macro avg       0.72      0.58      0.60      5300\n",
      "weighted avg       0.70      0.68      0.66      5300\n",
      "\n",
      "\n",
      "Confusion Matrix:\n",
      " [[1372   13   18   13   82]\n",
      " [ 260  141   20   16   53]\n",
      " [ 203    8  328   45  180]\n",
      " [ 123    3   42  382  368]\n",
      " [  89    3   28  111 1399]]\n"
     ]
    }
   ],
   "source": [
    "from sklearn.ensemble import RandomForestClassifier\n",
    "from sklearn.metrics import classification_report, accuracy_score, confusion_matrix\n",
    "rfc = RandomForestClassifier(n_estimators=100, random_state=42)\n",
    "rfc.fit(X_train_processed, y_train)\n",
    "y_pred = rfc.predict(X_test_processed)\n",
    "print(\"Accuracy:\", accuracy_score(y_test, y_pred))\n",
    "print(\"\\nClassification Report:\\n\", classification_report(y_test, y_pred))\n",
    "print(\"\\nConfusion Matrix:\\n\", confusion_matrix(y_test, y_pred))"
   ]
  },
  {
   "cell_type": "code",
   "execution_count": 37,
   "id": "7c9efce1",
   "metadata": {
    "execution": {
     "iopub.execute_input": "2025-08-20T18:22:23.009706Z",
     "iopub.status.busy": "2025-08-20T18:22:23.009297Z",
     "iopub.status.idle": "2025-08-20T18:22:53.894663Z",
     "shell.execute_reply": "2025-08-20T18:22:53.893634Z"
    },
    "papermill": {
     "duration": 30.917986,
     "end_time": "2025-08-20T18:22:53.910959",
     "exception": false,
     "start_time": "2025-08-20T18:22:22.992973",
     "status": "completed"
    },
    "tags": []
   },
   "outputs": [
    {
     "name": "stdout",
     "output_type": "stream",
     "text": [
      "Accuracy: 0.6533962264150943\n",
      "\n",
      "Classification Report:\n",
      "               precision    recall  f1-score   support\n",
      "\n",
      "           1       0.67      0.92      0.77      1498\n",
      "           2       0.84      0.29      0.43       490\n",
      "           3       0.75      0.43      0.55       764\n",
      "           4       0.67      0.42      0.51       918\n",
      "           5       0.67      0.86      0.75      1630\n",
      "\n",
      "    accuracy                           0.68      5300\n",
      "   macro avg       0.72      0.58      0.60      5300\n",
      "weighted avg       0.70      0.68      0.66      5300\n",
      "\n",
      "\n",
      "Confusion Matrix:\n",
      " [[1372   13   18   13   82]\n",
      " [ 260  141   20   16   53]\n",
      " [ 203    8  328   45  180]\n",
      " [ 123    3   42  382  368]\n",
      " [  89    3   28  111 1399]]\n"
     ]
    }
   ],
   "source": [
    "from xgboost import XGBClassifier\n",
    "\n",
    "from sklearn.preprocessing import LabelEncoder\n",
    "le = LabelEncoder()\n",
    "y_train_encoded = le.fit_transform(y_train) \n",
    "xgb_clf = XGBClassifier(use_label_encoder=False, eval_metric='mlogloss', random_state=42)\n",
    "xgb_clf.fit(X_train_processed, y_train_encoded)\n",
    "y_pred_encoded = xgb_clf.predict(X_test_processed)\n",
    "y_pred_original = le.inverse_transform(y_pred_encoded) \n",
    "print(\"Accuracy:\", accuracy_score(y_test, y_pred_original))\n",
    "print(\"\\nClassification Report:\\n\", classification_report(y_test, y_pred))\n",
    "print(\"\\nConfusion Matrix:\\n\", confusion_matrix(y_test, y_pred))"
   ]
  },
  {
   "cell_type": "code",
   "execution_count": 38,
   "id": "8ec65e3f",
   "metadata": {
    "execution": {
     "iopub.execute_input": "2025-08-20T18:22:53.943318Z",
     "iopub.status.busy": "2025-08-20T18:22:53.943019Z",
     "iopub.status.idle": "2025-08-20T18:23:36.927616Z",
     "shell.execute_reply": "2025-08-20T18:23:36.926607Z"
    },
    "papermill": {
     "duration": 43.018378,
     "end_time": "2025-08-20T18:23:36.944915",
     "exception": false,
     "start_time": "2025-08-20T18:22:53.926537",
     "status": "completed"
    },
    "tags": []
   },
   "outputs": [
    {
     "name": "stdout",
     "output_type": "stream",
     "text": [
      "Accuracy: 0.6141509433962264\n",
      "\n",
      "Classification Report:\n",
      "               precision    recall  f1-score   support\n",
      "\n",
      "           1       0.56      0.93      0.70      1498\n",
      "           2       0.70      0.13      0.21       490\n",
      "           3       0.69      0.33      0.45       764\n",
      "           4       0.61      0.30      0.40       918\n",
      "           5       0.66      0.78      0.72      1630\n",
      "\n",
      "    accuracy                           0.61      5300\n",
      "   macro avg       0.65      0.49      0.50      5300\n",
      "weighted avg       0.63      0.61      0.57      5300\n",
      "\n",
      "\n",
      "Confusion Matrix:\n",
      " [[1391   17   17   18   55]\n",
      " [ 336   62   26   13   53]\n",
      " [ 290    6  252   45  171]\n",
      " [ 212    1   51  274  380]\n",
      " [ 237    2   18   97 1276]]\n"
     ]
    }
   ],
   "source": [
    "from sklearn.ensemble import GradientBoostingClassifier\n",
    "gb_clf = GradientBoostingClassifier(random_state=42)\n",
    "gb_clf.fit(X_train_processed, y_train)\n",
    "y_pred = gb_clf.predict(X_test_processed)\n",
    "print(\"Accuracy:\", accuracy_score(y_test, y_pred))\n",
    "print(\"\\nClassification Report:\\n\", classification_report(y_test, y_pred))\n",
    "print(\"\\nConfusion Matrix:\\n\", confusion_matrix(y_test, y_pred))"
   ]
  },
  {
   "cell_type": "code",
   "execution_count": 39,
   "id": "a41d96bd",
   "metadata": {
    "execution": {
     "iopub.execute_input": "2025-08-20T18:23:36.978355Z",
     "iopub.status.busy": "2025-08-20T18:23:36.977636Z",
     "iopub.status.idle": "2025-08-20T18:23:39.488211Z",
     "shell.execute_reply": "2025-08-20T18:23:39.487262Z"
    },
    "papermill": {
     "duration": 2.52924,
     "end_time": "2025-08-20T18:23:39.490282",
     "exception": false,
     "start_time": "2025-08-20T18:23:36.961042",
     "status": "completed"
    },
    "tags": []
   },
   "outputs": [
    {
     "name": "stdout",
     "output_type": "stream",
     "text": [
      "Accuracy: 0.6443396226415095\n",
      "\n",
      "Classification Report:\n",
      "               precision    recall  f1-score   support\n",
      "\n",
      "           1       0.71      0.85      0.77      1498\n",
      "           2       0.47      0.26      0.33       490\n",
      "           3       0.54      0.43      0.48       764\n",
      "           4       0.51      0.46      0.48       918\n",
      "           5       0.70      0.78      0.74      1630\n",
      "\n",
      "    accuracy                           0.64      5300\n",
      "   macro avg       0.59      0.55      0.56      5300\n",
      "weighted avg       0.63      0.64      0.63      5300\n",
      "\n",
      "\n",
      "Confusion Matrix:\n",
      " [[1266   68   68   33   63]\n",
      " [ 224  126   59   36   45]\n",
      " [ 160   42  330  112  120]\n",
      " [  75   18   90  420  315]\n",
      " [  61   14   64  218 1273]]\n"
     ]
    }
   ],
   "source": [
    "from sklearn.svm import LinearSVC\n",
    "y_train_adj = y_train - 1\n",
    "y_test_adj = y_test - 1\n",
    "svc_clf = LinearSVC(random_state=42, max_iter=10000) \n",
    "svc_clf.fit(X_train_processed, y_train_adj)\n",
    "y_pred_adj = svc_clf.predict(X_test_processed)\n",
    "y_pred = y_pred_adj + 1\n",
    "y_test_orig = y_test_adj + 1\n",
    "print(\"Accuracy:\", accuracy_score(y_test_orig, y_pred))\n",
    "print(\"\\nClassification Report:\\n\", classification_report(y_test_orig, y_pred))\n",
    "print(\"\\nConfusion Matrix:\\n\", confusion_matrix(y_test_orig, y_pred))"
   ]
  },
  {
   "cell_type": "code",
   "execution_count": 40,
   "id": "6879a5d3",
   "metadata": {
    "execution": {
     "iopub.execute_input": "2025-08-20T18:23:39.534135Z",
     "iopub.status.busy": "2025-08-20T18:23:39.533806Z",
     "iopub.status.idle": "2025-08-20T18:23:43.838345Z",
     "shell.execute_reply": "2025-08-20T18:23:43.837183Z"
    },
    "papermill": {
     "duration": 4.326126,
     "end_time": "2025-08-20T18:23:43.840046",
     "exception": false,
     "start_time": "2025-08-20T18:23:39.513920",
     "status": "completed"
    },
    "tags": []
   },
   "outputs": [
    {
     "name": "stdout",
     "output_type": "stream",
     "text": [
      "Accuracy: 0.6049056603773585\n",
      "\n",
      "Classification Report:\n",
      "               precision    recall  f1-score   support\n",
      "\n",
      "           1       0.57      0.92      0.70      1498\n",
      "           2       0.53      0.13      0.21       490\n",
      "           3       0.64      0.31      0.42       764\n",
      "           4       0.59      0.30      0.39       918\n",
      "           5       0.65      0.77      0.71      1630\n",
      "\n",
      "    accuracy                           0.60      5300\n",
      "   macro avg       0.60      0.49      0.49      5300\n",
      "weighted avg       0.60      0.60      0.56      5300\n",
      "\n",
      "\n",
      "Confusion Matrix:\n",
      " [[1372   26   29   14   57]\n",
      " [ 325   65   35   23   42]\n",
      " [ 274   17  239   51  183]\n",
      " [ 200    8   50  272  388]\n",
      " [ 243    7   20  102 1258]]\n"
     ]
    }
   ],
   "source": [
    "from sklearn.ensemble import AdaBoostClassifier\n",
    "y_train_adj = y_train - 1\n",
    "y_test_adj = y_test - 1\n",
    "ada_clf = AdaBoostClassifier(n_estimators=100, random_state=42)\n",
    "ada_clf.fit(X_train_processed, y_train_adj)\n",
    "y_pred_adj = ada_clf.predict(X_test_processed)\n",
    "y_pred = y_pred_adj + 1\n",
    "y_test_orig = y_test_adj + 1\n",
    "print(\"Accuracy:\", accuracy_score(y_test_orig, y_pred))\n",
    "print(\"\\nClassification Report:\\n\", classification_report(y_test_orig, y_pred))\n",
    "print(\"\\nConfusion Matrix:\\n\", confusion_matrix(y_test_orig, y_pred))"
   ]
  },
  {
   "cell_type": "code",
   "execution_count": 41,
   "id": "6933fbc4",
   "metadata": {
    "execution": {
     "iopub.execute_input": "2025-08-20T18:23:43.875026Z",
     "iopub.status.busy": "2025-08-20T18:23:43.874655Z",
     "iopub.status.idle": "2025-08-20T18:24:13.555097Z",
     "shell.execute_reply": "2025-08-20T18:24:13.553850Z"
    },
    "papermill": {
     "duration": 29.700851,
     "end_time": "2025-08-20T18:24:13.557114",
     "exception": false,
     "start_time": "2025-08-20T18:23:43.856263",
     "status": "completed"
    },
    "tags": []
   },
   "outputs": [
    {
     "name": "stdout",
     "output_type": "stream",
     "text": [
      "Accuracy: 0.6637735849056604\n",
      "\n",
      "Classification Report:\n",
      "               precision    recall  f1-score   support\n",
      "\n",
      "           1       0.70      0.86      0.77      1498\n",
      "           2       0.64      0.31      0.42       490\n",
      "           3       0.67      0.46      0.54       764\n",
      "           4       0.57      0.47      0.52       918\n",
      "           5       0.67      0.79      0.73      1630\n",
      "\n",
      "    accuracy                           0.66      5300\n",
      "   macro avg       0.65      0.58      0.60      5300\n",
      "weighted avg       0.66      0.66      0.65      5300\n",
      "\n",
      "\n",
      "Confusion Matrix:\n",
      " [[1289   36   40   38   95]\n",
      " [ 221  154   31   29   55]\n",
      " [ 157   27  352   66  162]\n",
      " [  96   12   53  432  325]\n",
      " [  88   11   52  188 1291]]\n"
     ]
    }
   ],
   "source": [
    "from sklearn.ensemble import BaggingClassifier\n",
    "from sklearn.metrics import accuracy_score, classification_report, confusion_matrix\n",
    "bagging_clf = BaggingClassifier(random_state=42 )  \n",
    "bagging_clf.fit(X_train_processed, y_train)            \n",
    "y_pred = bagging_clf.predict(X_test_processed)\n",
    "print(\"Accuracy:\", accuracy_score(y_test, y_pred))\n",
    "print(\"\\nClassification Report:\\n\", classification_report(y_test, y_pred))\n",
    "print(\"\\nConfusion Matrix:\\n\", confusion_matrix(y_test, y_pred))"
   ]
  },
  {
   "cell_type": "code",
   "execution_count": 42,
   "id": "4f75cde0",
   "metadata": {
    "execution": {
     "iopub.execute_input": "2025-08-20T18:24:13.591263Z",
     "iopub.status.busy": "2025-08-20T18:24:13.590397Z",
     "iopub.status.idle": "2025-08-20T18:35:37.640868Z",
     "shell.execute_reply": "2025-08-20T18:35:37.639854Z"
    },
    "papermill": {
     "duration": 684.084851,
     "end_time": "2025-08-20T18:35:37.658389",
     "exception": false,
     "start_time": "2025-08-20T18:24:13.573538",
     "status": "completed"
    },
    "tags": []
   },
   "outputs": [
    {
     "name": "stdout",
     "output_type": "stream",
     "text": [
      "Fitting 3 folds for each of 10 candidates, totalling 30 fits\n",
      "✅ Best Parameters Found: {'classifier__subsample': 1, 'classifier__n_estimators': 300, 'classifier__max_depth': 7, 'classifier__learning_rate': 0.2, 'classifier__colsample_bytree': 0.7}\n",
      "✅ Accuracy on Test Set: 0.6732075471698113\n",
      "\n",
      "📊 Classification Report:\n",
      "               precision    recall  f1-score   support\n",
      "\n",
      "           1       0.69      0.89      0.78      1498\n",
      "           2       0.60      0.26      0.36       490\n",
      "           3       0.61      0.44      0.51       764\n",
      "           4       0.62      0.42      0.50       918\n",
      "           5       0.69      0.86      0.77      1630\n",
      "\n",
      "    accuracy                           0.67      5300\n",
      "   macro avg       0.64      0.57      0.58      5300\n",
      "weighted avg       0.66      0.67      0.65      5300\n",
      "\n",
      "📉 Confusion Matrix:\n",
      " [[1326   41   43   28   60]\n",
      " [ 251  125   49   23   42]\n",
      " [ 178   24  334   70  158]\n",
      " [  87   10   79  384  358]\n",
      " [  71    9   40  111 1399]]\n"
     ]
    }
   ],
   "source": [
    "from xgboost import XGBClassifier\n",
    "from sklearn.pipeline import Pipeline\n",
    "from sklearn.model_selection import RandomizedSearchCV\n",
    "from sklearn.metrics import accuracy_score, classification_report, confusion_matrix\n",
    "\n",
    "\n",
    "y_train_adj = y_train - 1\n",
    "y_test_adj = y_test - 1\n",
    "\n",
    "xgb_pipeline = Pipeline([\n",
    "    ('preprocessor', preprocessor),\n",
    "    ('classifier', XGBClassifier(use_label_encoder=False, eval_metric='mlogloss', random_state=42))\n",
    "])\n",
    "\n",
    "xgb_params = {\n",
    "    'classifier__n_estimators': [100, 200,300],\n",
    "    'classifier__max_depth': [3, 5, 7],\n",
    "    'classifier__learning_rate': [0.01, 0.1, 0.2],\n",
    "    'classifier__subsample': [0.7, 1],\n",
    "    'classifier__colsample_bytree': [0.7, 1]\n",
    "    \n",
    "}\n",
    "\n",
    "\n",
    "xgb_search = RandomizedSearchCV(xgb_pipeline, xgb_params, n_iter=10, cv=3, n_jobs=-1, verbose=2)\n",
    "xgb_search.fit(X_train, y_train_adj)\n",
    "\n",
    "\n",
    "y_pred_adj = xgb_search.predict(X_test)\n",
    "y_pred = y_pred_adj + 1\n",
    "y_test_orig = y_test_adj + 1\n",
    "\n",
    "\n",
    "print(\"✅ Best Parameters Found:\", xgb_search.best_params_)\n",
    "print(\"✅ Accuracy on Test Set:\", accuracy_score(y_test_orig, y_pred))\n",
    "print(\"\\n📊 Classification Report:\\n\", classification_report(y_test_orig, y_pred))\n",
    "print(\"📉 Confusion Matrix:\\n\", confusion_matrix(y_test_orig, y_pred))"
   ]
  },
  {
   "cell_type": "code",
   "execution_count": 43,
   "id": "e732790d",
   "metadata": {
    "execution": {
     "iopub.execute_input": "2025-08-20T18:35:37.692116Z",
     "iopub.status.busy": "2025-08-20T18:35:37.691726Z",
     "iopub.status.idle": "2025-08-20T18:50:29.596660Z",
     "shell.execute_reply": "2025-08-20T18:50:29.595404Z"
    },
    "papermill": {
     "duration": 891.940514,
     "end_time": "2025-08-20T18:50:29.614893",
     "exception": false,
     "start_time": "2025-08-20T18:35:37.674379",
     "status": "completed"
    },
    "tags": []
   },
   "outputs": [
    {
     "name": "stdout",
     "output_type": "stream",
     "text": [
      "Fitting 3 folds for each of 10 candidates, totalling 30 fits\n",
      "✅ Best Parameters Found: {'classifier__n_estimators': 200, 'classifier__min_samples_split': 10, 'classifier__min_samples_leaf': 1, 'classifier__max_features': 'log2', 'classifier__max_depth': None, 'classifier__bootstrap': True}\n",
      "✅ Accuracy on Test Set: 0.689433962264151\n",
      "\n",
      "📊 Classification Report:\n",
      "               precision    recall  f1-score   support\n",
      "\n",
      "           1       0.66      0.94      0.77      1498\n",
      "           2       0.91      0.28      0.43       490\n",
      "           3       0.76      0.42      0.55       764\n",
      "           4       0.73      0.40      0.52       918\n",
      "           5       0.68      0.87      0.76      1630\n",
      "\n",
      "    accuracy                           0.69      5300\n",
      "   macro avg       0.75      0.58      0.61      5300\n",
      "weighted avg       0.72      0.69      0.66      5300\n",
      "\n",
      "📉 Confusion Matrix:\n",
      " [[1402    6   16    8   66]\n",
      " [ 272  139   18   13   48]\n",
      " [ 221    5  324   28  186]\n",
      " [ 141    1   39  366  371]\n",
      " [  93    2   27   85 1423]]\n"
     ]
    }
   ],
   "source": [
    "from sklearn.ensemble import RandomForestClassifier\n",
    "from sklearn.model_selection import RandomizedSearchCV\n",
    "from sklearn.metrics import accuracy_score, classification_report, confusion_matrix\n",
    "from sklearn.pipeline import Pipeline\n",
    "\n",
    "rf_pipeline = Pipeline([\n",
    "    ('preprocessor', preprocessor),  \n",
    "    ('classifier', RandomForestClassifier(random_state=42))\n",
    "])\n",
    "\n",
    "\n",
    "rf_params = {\n",
    "    'classifier__n_estimators': [100, 200, 300],\n",
    "    'classifier__max_depth': [10, 20, 30, None],\n",
    "    'classifier__min_samples_split': [2, 5, 10],\n",
    "    'classifier__min_samples_leaf': [1, 2, 4],\n",
    "    'classifier__max_features': ['sqrt', 'log2', None],\n",
    "    'classifier__bootstrap': [True, False]\n",
    "}\n",
    "\n",
    "\n",
    "rf_search = RandomizedSearchCV(\n",
    "    estimator=rf_pipeline,\n",
    "    param_distributions=rf_params,\n",
    "    n_iter=10,\n",
    "    cv=3,\n",
    "    verbose=2,\n",
    "    random_state=42,\n",
    "    n_jobs=-1\n",
    ")\n",
    "\n",
    "\n",
    "rf_search.fit(X_train, y_train)\n",
    "\n",
    "\n",
    "y_pred = rf_search.predict(X_test)\n",
    "\n",
    "\n",
    "print(\"✅ Best Parameters Found:\", rf_search.best_params_)\n",
    "print(\"✅ Accuracy on Test Set:\", accuracy_score(y_test, y_pred))\n",
    "print(\"\\n📊 Classification Report:\\n\", classification_report(y_test, y_pred))\n",
    "print(\"📉 Confusion Matrix:\\n\", confusion_matrix(y_test, y_pred))"
   ]
  },
  {
   "cell_type": "code",
   "execution_count": 44,
   "id": "3be2b019",
   "metadata": {
    "execution": {
     "iopub.execute_input": "2025-08-20T18:50:29.648755Z",
     "iopub.status.busy": "2025-08-20T18:50:29.648338Z",
     "iopub.status.idle": "2025-08-20T18:59:21.526688Z",
     "shell.execute_reply": "2025-08-20T18:59:21.525595Z"
    },
    "papermill": {
     "duration": 531.915026,
     "end_time": "2025-08-20T18:59:21.546212",
     "exception": false,
     "start_time": "2025-08-20T18:50:29.631186",
     "status": "completed"
    },
    "tags": []
   },
   "outputs": [
    {
     "name": "stdout",
     "output_type": "stream",
     "text": [
      "Fitting 3 folds for each of 10 candidates, totalling 30 fits\n",
      "✅ Best Parameters Found: {'classifier__n_estimators': 100, 'classifier__max_samples': 0.5, 'classifier__max_features': 0.5, 'classifier__estimator': DecisionTreeClassifier(random_state=42), 'classifier__bootstrap': False}\n",
      "✅ Accuracy on Test Set: 0.6862264150943396\n",
      "\n",
      "📊 Classification Report:\n",
      "               precision    recall  f1-score   support\n",
      "\n",
      "           1       0.68      0.91      0.78      1498\n",
      "           2       0.88      0.29      0.43       490\n",
      "           3       0.80      0.40      0.53       764\n",
      "           4       0.71      0.41      0.52       918\n",
      "           5       0.65      0.89      0.75      1630\n",
      "\n",
      "    accuracy                           0.69      5300\n",
      "   macro avg       0.74      0.58      0.60      5300\n",
      "weighted avg       0.71      0.69      0.66      5300\n",
      "\n",
      "📉 Confusion Matrix:\n",
      " [[1363   10   17   14   94]\n",
      " [ 254  141   13   12   70]\n",
      " [ 196    7  307   39  215]\n",
      " [ 107    2   35  377  397]\n",
      " [  82    0   13   86 1449]]\n"
     ]
    }
   ],
   "source": [
    "from sklearn.ensemble import BaggingClassifier\n",
    "from sklearn.tree import DecisionTreeClassifier\n",
    "from sklearn.model_selection import RandomizedSearchCV\n",
    "from sklearn.pipeline import Pipeline\n",
    "from sklearn.metrics import accuracy_score, classification_report, confusion_matrix\n",
    "\n",
    "bagging_pipeline = Pipeline([\n",
    "    ('preprocessor', preprocessor), \n",
    "    ('classifier', BaggingClassifier(random_state=42))\n",
    "])\n",
    "\n",
    "bagging_params = {\n",
    "    'classifier__n_estimators': [10, 50, 100, 200],\n",
    "    'classifier__max_samples': [0.5, 0.7, 1.0],\n",
    "    'classifier__max_features': [0.5, 0.7, 1.0],\n",
    "    'classifier__bootstrap': [True, False],\n",
    "    'classifier__estimator': [\n",
    "        DecisionTreeClassifier(max_depth=3, random_state=42),\n",
    "        DecisionTreeClassifier(max_depth=5, random_state=42),\n",
    "        DecisionTreeClassifier(max_depth=None, random_state=42)\n",
    "    ]\n",
    "}\n",
    "\n",
    "\n",
    "bagging_search = RandomizedSearchCV(\n",
    "    estimator=bagging_pipeline,\n",
    "    param_distributions=bagging_params,\n",
    "    n_iter=10,\n",
    "    cv=3,\n",
    "    verbose=1,\n",
    "    n_jobs=-1,\n",
    "    random_state=42\n",
    ")\n",
    "\n",
    "\n",
    "bagging_search.fit(X_train, y_train)\n",
    "\n",
    "\n",
    "y_pred = bagging_search.predict(X_test)\n",
    "\n",
    "\n",
    "print(\"✅ Best Parameters Found:\", bagging_search.best_params_)\n",
    "print(\"✅ Accuracy on Test Set:\", accuracy_score(y_test, y_pred))\n",
    "print(\"\\n📊 Classification Report:\\n\", classification_report(y_test, y_pred))\n",
    "print(\"📉 Confusion Matrix:\\n\", confusion_matrix(y_test, y_pred))"
   ]
  },
  {
   "cell_type": "code",
   "execution_count": 45,
   "id": "7f31cda5",
   "metadata": {
    "execution": {
     "iopub.execute_input": "2025-08-20T18:59:21.581499Z",
     "iopub.status.busy": "2025-08-20T18:59:21.581184Z",
     "iopub.status.idle": "2025-08-20T18:59:23.856889Z",
     "shell.execute_reply": "2025-08-20T18:59:23.855722Z"
    },
    "papermill": {
     "duration": 2.295082,
     "end_time": "2025-08-20T18:59:23.858632",
     "exception": false,
     "start_time": "2025-08-20T18:59:21.563550",
     "status": "completed"
    },
    "tags": []
   },
   "outputs": [
    {
     "name": "stdout",
     "output_type": "stream",
     "text": [
      "           Model  Accuracy  F1 Score  \\\n",
      "0        XGBoost  0.673208  0.582662   \n",
      "1  Random Forest  0.689434  0.606269   \n",
      "2        Bagging  0.686226  0.604054   \n",
      "\n",
      "                                         Best Params  \n",
      "0  {'classifier__subsample': 1, 'classifier__n_es...  \n",
      "1  {'classifier__n_estimators': 200, 'classifier_...  \n",
      "2  {'classifier__n_estimators': 100, 'classifier_...  \n"
     ]
    }
   ],
   "source": [
    "from sklearn.metrics import accuracy_score, f1_score\n",
    "import pandas as pd\n",
    "\n",
    "models = {\n",
    "    'XGBoost': xgb_search,\n",
    "    'Random Forest': rf_search,\n",
    "    'Bagging': bagging_search\n",
    "}\n",
    "\n",
    "results = []\n",
    "\n",
    "for name, model in models.items():\n",
    "    if name == \"XGBoost\":\n",
    "        y_pred = model.predict(X_test) + 1   \n",
    "    else:\n",
    "        y_pred = model.predict(X_test)       \n",
    "    \n",
    "    results.append({\n",
    "        'Model': name,\n",
    "        'Accuracy': accuracy_score(y_test, y_pred),\n",
    "        'F1 Score': f1_score(y_test, y_pred, average='macro'),\n",
    "        'Best Params': model.best_params_\n",
    "    })\n",
    "\n",
    "\n",
    "results_df = pd.DataFrame(results)\n",
    "print(results_df)"
   ]
  },
  {
   "cell_type": "code",
   "execution_count": 46,
   "id": "c407055e",
   "metadata": {
    "execution": {
     "iopub.execute_input": "2025-08-20T18:59:23.893566Z",
     "iopub.status.busy": "2025-08-20T18:59:23.893237Z",
     "iopub.status.idle": "2025-08-20T18:59:24.086267Z",
     "shell.execute_reply": "2025-08-20T18:59:24.085161Z"
    },
    "papermill": {
     "duration": 0.212532,
     "end_time": "2025-08-20T18:59:24.088009",
     "exception": false,
     "start_time": "2025-08-20T18:59:23.875477",
     "status": "completed"
    },
    "tags": []
   },
   "outputs": [
    {
     "data": {
      "image/png": "[encoded data removed]",
      "text/plain": [
       "<Figure size 640x480 with 1 Axes>"
      ]
     },
     "metadata": {},
     "output_type": "display_data"
    }
   ],
   "source": [
    "x = results_df['Model']\n",
    "acc = results_df['Accuracy']\n",
    "f1 = results_df['F1 Score']\n",
    "\n",
    "x_pos = np.arange(len(x))\n",
    "width = 0.35\n",
    "\n",
    "plt.bar(x_pos - width/2, acc, width, label='Accuracy')\n",
    "plt.bar(x_pos + width/2, f1, width, label='F1 Score')\n",
    "\n",
    "plt.xticks(x_pos, x)\n",
    "plt.ylabel(\"Score\")\n",
    "plt.title(\"Accuracy vs F1 Score\")\n",
    "plt.legend()\n",
    "plt.show()"
   ]
  },
  {
   "cell_type": "code",
   "execution_count": 47,
   "id": "0ca43617",
   "metadata": {
    "execution": {
     "iopub.execute_input": "2025-08-20T18:59:24.124841Z",
     "iopub.status.busy": "2025-08-20T18:59:24.123690Z",
     "iopub.status.idle": "2025-08-20T18:59:24.957520Z",
     "shell.execute_reply": "2025-08-20T18:59:24.956640Z"
    },
    "papermill": {
     "duration": 0.853295,
     "end_time": "2025-08-20T18:59:24.959211",
     "exception": false,
     "start_time": "2025-08-20T18:59:24.105916",
     "status": "completed"
    },
    "tags": []
   },
   "outputs": [],
   "source": [
    "test_data_p=preprocessor.transform(df_test)\n",
    "model_only=bagging_search.best_estimator_.named_steps['classifier']\n",
    "y_test_pred=model_only.predict(test_data_p)"
   ]
  },
  {
   "cell_type": "code",
   "execution_count": 48,
   "id": "39415258",
   "metadata": {
    "execution": {
     "iopub.execute_input": "2025-08-20T18:59:24.995836Z",
     "iopub.status.busy": "2025-08-20T18:59:24.994772Z",
     "iopub.status.idle": "2025-08-20T18:59:25.020279Z",
     "shell.execute_reply": "2025-08-20T18:59:25.019199Z"
    },
    "papermill": {
     "duration": 0.045716,
     "end_time": "2025-08-20T18:59:25.021929",
     "exception": false,
     "start_time": "2025-08-20T18:59:24.976213",
     "status": "completed"
    },
    "tags": []
   },
   "outputs": [
    {
     "name": "stdout",
     "output_type": "stream",
     "text": [
      "7000 7000\n"
     ]
    }
   ],
   "source": [
    "submission = pd.read_csv('/kaggle/input/mlp-term-2-2025-kaggle-assignment-3/sample_submission.csv')\n",
    "print(len(y_test_pred),len(submission))"
   ]
  },
  {
   "cell_type": "code",
   "execution_count": 49,
   "id": "0709ccfc",
   "metadata": {
    "execution": {
     "iopub.execute_input": "2025-08-20T18:59:25.058236Z",
     "iopub.status.busy": "2025-08-20T18:59:25.057914Z",
     "iopub.status.idle": "2025-08-20T18:59:25.074707Z",
     "shell.execute_reply": "2025-08-20T18:59:25.073625Z"
    },
    "papermill": {
     "duration": 0.037279,
     "end_time": "2025-08-20T18:59:25.076680",
     "exception": false,
     "start_time": "2025-08-20T18:59:25.039401",
     "status": "completed"
    },
    "tags": []
   },
   "outputs": [],
   "source": [
    "submission['rating'] = y_test_pred\n",
    "submission.to_csv(\"submission.csv\", index=False)"
   ]
  },
  {
   "cell_type": "code",
   "execution_count": null,
   "id": "36f04d02",
   "metadata": {
    "papermill": {
     "duration": 0.017091,
     "end_time": "2025-08-20T18:59:25.111267",
     "exception": false,
     "start_time": "2025-08-20T18:59:25.094176",
     "status": "completed"
    },
    "tags": []
   },
   "outputs": [],
   "source": []
  }
 ],
 "metadata": {
  "kaggle": {
   "accelerator": "none",
   "dataSources": [
    {
     "databundleVersionId": 13272433,
     "sourceId": 111489,
     "sourceType": "competition"
    }
   ],
   "dockerImageVersionId": 31089,
   "isGpuEnabled": false,
   "isInternetEnabled": true,
   "language": "python",
   "sourceType": "notebook"
  },
  "kernelspec": {
   "display_name": "Python 3",
   "language": "python",
   "name": "python3"
  },
  "language_info": {
   "codemirror_mode": {
    "name": "ipython",
    "version": 3
   },
   "file_extension": ".py",
   "mimetype": "text/x-python",
   "name": "python",
   "nbconvert_exporter": "python",
   "pygments_lexer": "ipython3",
   "version": "3.11.13"
  },
  "papermill": {
   "default_parameters": {},
   "duration": 2291.827758,
   "end_time": "2025-08-20T18:59:27.756029",
   "environment_variables": {},
   "exception": null,
   "input_path": "__notebook__.ipynb",
   "output_path": "__notebook__.ipynb",
   "parameters": {},
   "start_time": "2025-08-20T18:21:15.928271",
   "version": "2.6.0"
  }
 },
 "nbformat": 4,
 "nbformat_minor": 5
}
